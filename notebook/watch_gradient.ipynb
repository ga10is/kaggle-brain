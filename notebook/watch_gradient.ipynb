{
 "cells": [
  {
   "cell_type": "code",
   "execution_count": 15,
   "metadata": {},
   "outputs": [],
   "source": [
    "import sys\n",
    "import os\n",
    "import numpy as np\n",
    "\n",
    "import matplotlib.pylab as plt\n",
    "%matplotlib inline"
   ]
  },
  {
   "cell_type": "code",
   "execution_count": 2,
   "metadata": {},
   "outputs": [],
   "source": [
    "sys.path.append('../src')"
   ]
  },
  {
   "cell_type": "code",
   "execution_count": 12,
   "metadata": {},
   "outputs": [],
   "source": [
    "from db.mstory import ModelDB"
   ]
  },
  {
   "cell_type": "code",
   "execution_count": 13,
   "metadata": {},
   "outputs": [],
   "source": [
    "db = ModelDB('../sample.db')"
   ]
  },
  {
   "cell_type": "code",
   "execution_count": 14,
   "metadata": {},
   "outputs": [
    {
     "name": "stdout",
     "output_type": "stream",
     "text": [
      "    exid   name                                      path\n",
      "0      1  MyNet  ./model/data224/mynet/001/best_model.pth\n",
      "1      2  MyNet  ./model/data224/mynet/001/best_model.pth\n",
      "2      3  MyNet  ./model/data224/mynet/001/best_model.pth\n",
      "3      4  MyNet  ./model/data224/mynet/001/best_model.pth\n",
      "4      5  MyNet  ./model/data224/mynet/001/best_model.pth\n",
      "5      6  MyNet  ./model/data224/mynet/001/best_model.pth\n",
      "6      7  MyNet  ./model/data224/mynet/001/best_model.pth\n",
      "7      8  MyNet  ./model/data224/mynet/001/best_model.pth\n",
      "8      9  MyNet  ./model/data224/mynet/001/best_model.pth\n",
      "9     10  MyNet  ./model/data224/mynet/001/best_model.pth\n",
      "10    11  MyNet  ./model/data224/mynet/001/best_model.pth\n",
      "11    12  MyNet  ./model/data224/mynet/001/best_model.pth\n",
      "12    13  MyNet  ./model/data224/mynet/001/best_model.pth\n"
     ]
    }
   ],
   "source": [
    "db.show_experiment()"
   ]
  },
  {
   "cell_type": "code",
   "execution_count": 19,
   "metadata": {},
   "outputs": [],
   "source": [
    "class GradPlot:\n",
    "\n",
    "    def plot_grad(self, layer_grad, figsize=(16, 6)):\n",
    "        max_grad = layer_grad['max_abs_grads']\n",
    "        avg_grad = layer_grad['avg_abs_grads']\n",
    "        layers = layer_grad['layers']\n",
    "\n",
    "        # fig, ax = plt.subplots(1, 1)\n",
    "        plt.figure(figsize=figsize)\n",
    "        plt.bar(np.arange(len(max_grad)), max_grad, alpha=0.1, lw=1, color='c')\n",
    "        plt.bar(np.arange(len(max_grad)), avg_grad, alpha=0.1, lw=1, color='b')\n",
    "        plt.xticks(range(0, len(layers), 1), layers, rotation='vertical')"
   ]
  },
  {
   "cell_type": "code",
   "execution_count": 20,
   "metadata": {},
   "outputs": [
    {
     "data": {
      "image/png": "[encoded data removed]",
      "text/plain": [
       "<Figure size 1152x432 with 1 Axes>"
      ]
     },
     "metadata": {
      "needs_background": "light"
     },
     "output_type": "display_data"
    }
   ],
   "source": [
    "p = GradPlot()\n",
    "p.plot_grad(db.get_grad(3, 1, 0))"
   ]
  },
  {
   "cell_type": "code",
   "execution_count": null,
   "metadata": {},
   "outputs": [],
   "source": []
  }
 ],
 "metadata": {
  "kernelspec": {
   "display_name": "Python 3",
   "language": "python",
   "name": "python3"
  },
  "language_info": {
   "codemirror_mode": {
    "name": "ipython",
    "version": 3
   },
   "file_extension": ".py",
   "mimetype": "text/x-python",
   "name": "python",
   "nbconvert_exporter": "python",
   "pygments_lexer": "ipython3",
   "version": "3.6.4"
  },
  "toc": {
   "base_numbering": 1,
   "nav_menu": {},
   "number_sections": true,
   "sideBar": true,
   "skip_h1_title": false,
   "title_cell": "Table of Contents",
   "title_sidebar": "Contents",
   "toc_cell": false,
   "toc_position": {},
   "toc_section_display": true,
   "toc_window_display": false
  }
 },
 "nbformat": 4,
 "nbformat_minor": 2
}

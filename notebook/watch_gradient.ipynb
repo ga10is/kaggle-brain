{
 "cells": [
  {
   "cell_type": "code",
   "execution_count": 1,
   "metadata": {},
   "outputs": [],
   "source": [
    "import sys\n",
    "import os\n",
    "import numpy as np\n",
    "\n",
    "import matplotlib.pylab as plt\n",
    "%matplotlib inline"
   ]
  },
  {
   "cell_type": "code",
   "execution_count": 2,
   "metadata": {},
   "outputs": [],
   "source": [
    "sys.path.append('../src')"
   ]
  },
  {
   "cell_type": "code",
   "execution_count": 3,
   "metadata": {},
   "outputs": [],
   "source": [
    "from db.mstory import ModelDB"
   ]
  },
  {
   "cell_type": "code",
   "execution_count": 4,
   "metadata": {},
   "outputs": [],
   "source": [
    "db = ModelDB('../sample.db')"
   ]
  },
  {
   "cell_type": "code",
   "execution_count": 6,
   "metadata": {},
   "outputs": [
    {
     "data": {
      "text/html": [
       "<div>\n",
       "<style scoped>\n",
       "    .dataframe tbody tr th:only-of-type {\n",
       "        vertical-align: middle;\n",
       "    }\n",
       "\n",
       "    .dataframe tbody tr th {\n",
       "        vertical-align: top;\n",
       "    }\n",
       "\n",
       "    .dataframe thead th {\n",
       "        text-align: right;\n",
       "    }\n",
       "</style>\n",
       "<table border=\"1\" class=\"dataframe\">\n",
       "  <thead>\n",
       "    <tr style=\"text-align: right;\">\n",
       "      <th></th>\n",
       "      <th>exid</th>\n",
       "      <th>name</th>\n",
       "      <th>path</th>\n",
       "    </tr>\n",
       "  </thead>\n",
       "  <tbody>\n",
       "    <tr>\n",
       "      <th>0</th>\n",
       "      <td>1</td>\n",
       "      <td>MyNet</td>\n",
       "      <td>./model/data224/mynet/001/best_model.pth</td>\n",
       "    </tr>\n",
       "    <tr>\n",
       "      <th>1</th>\n",
       "      <td>2</td>\n",
       "      <td>MyNet</td>\n",
       "      <td>./model/data224/mynet/001/best_model.pth</td>\n",
       "    </tr>\n",
       "    <tr>\n",
       "      <th>2</th>\n",
       "      <td>3</td>\n",
       "      <td>MyNet</td>\n",
       "      <td>./model/data224/mynet/001/best_model.pth</td>\n",
       "    </tr>\n",
       "    <tr>\n",
       "      <th>3</th>\n",
       "      <td>4</td>\n",
       "      <td>MyNet</td>\n",
       "      <td>./model/data224/mynet/001/best_model.pth</td>\n",
       "    </tr>\n",
       "    <tr>\n",
       "      <th>4</th>\n",
       "      <td>5</td>\n",
       "      <td>MyNet</td>\n",
       "      <td>./model/data224/mynet/001/best_model.pth</td>\n",
       "    </tr>\n",
       "    <tr>\n",
       "      <th>5</th>\n",
       "      <td>6</td>\n",
       "      <td>MyNet</td>\n",
       "      <td>./model/data224/mynet/001/best_model.pth</td>\n",
       "    </tr>\n",
       "    <tr>\n",
       "      <th>6</th>\n",
       "      <td>7</td>\n",
       "      <td>MyNet</td>\n",
       "      <td>./model/data224/mynet/001/best_model.pth</td>\n",
       "    </tr>\n",
       "    <tr>\n",
       "      <th>7</th>\n",
       "      <td>8</td>\n",
       "      <td>MyNet</td>\n",
       "      <td>./model/data224/mynet/001/best_model.pth</td>\n",
       "    </tr>\n",
       "    <tr>\n",
       "      <th>8</th>\n",
       "      <td>9</td>\n",
       "      <td>MyNet</td>\n",
       "      <td>./model/data224/mynet/001/best_model.pth</td>\n",
       "    </tr>\n",
       "    <tr>\n",
       "      <th>9</th>\n",
       "      <td>10</td>\n",
       "      <td>MyNet</td>\n",
       "      <td>./model/data224/mynet/001/best_model.pth</td>\n",
       "    </tr>\n",
       "    <tr>\n",
       "      <th>10</th>\n",
       "      <td>11</td>\n",
       "      <td>MyNet</td>\n",
       "      <td>./model/data224/mynet/001/best_model.pth</td>\n",
       "    </tr>\n",
       "    <tr>\n",
       "      <th>11</th>\n",
       "      <td>12</td>\n",
       "      <td>MyNet</td>\n",
       "      <td>./model/data224/mynet/001/best_model.pth</td>\n",
       "    </tr>\n",
       "    <tr>\n",
       "      <th>12</th>\n",
       "      <td>13</td>\n",
       "      <td>MyNet</td>\n",
       "      <td>./model/data224/mynet/001/best_model.pth</td>\n",
       "    </tr>\n",
       "  </tbody>\n",
       "</table>\n",
       "</div>"
      ],
      "text/plain": [
       "    exid   name                                      path\n",
       "0      1  MyNet  ./model/data224/mynet/001/best_model.pth\n",
       "1      2  MyNet  ./model/data224/mynet/001/best_model.pth\n",
       "2      3  MyNet  ./model/data224/mynet/001/best_model.pth\n",
       "3      4  MyNet  ./model/data224/mynet/001/best_model.pth\n",
       "4      5  MyNet  ./model/data224/mynet/001/best_model.pth\n",
       "5      6  MyNet  ./model/data224/mynet/001/best_model.pth\n",
       "6      7  MyNet  ./model/data224/mynet/001/best_model.pth\n",
       "7      8  MyNet  ./model/data224/mynet/001/best_model.pth\n",
       "8      9  MyNet  ./model/data224/mynet/001/best_model.pth\n",
       "9     10  MyNet  ./model/data224/mynet/001/best_model.pth\n",
       "10    11  MyNet  ./model/data224/mynet/001/best_model.pth\n",
       "11    12  MyNet  ./model/data224/mynet/001/best_model.pth\n",
       "12    13  MyNet  ./model/data224/mynet/001/best_model.pth"
      ]
     },
     "execution_count": 6,
     "metadata": {},
     "output_type": "execute_result"
    }
   ],
   "source": [
    "db.table_experiment()"
   ]
  },
  {
   "cell_type": "code",
   "execution_count": 19,
   "metadata": {},
   "outputs": [
    {
     "data": {
      "text/html": [
       "<div>\n",
       "<style scoped>\n",
       "    .dataframe tbody tr th:only-of-type {\n",
       "        vertical-align: middle;\n",
       "    }\n",
       "\n",
       "    .dataframe tbody tr th {\n",
       "        vertical-align: top;\n",
       "    }\n",
       "\n",
       "    .dataframe thead th {\n",
       "        text-align: right;\n",
       "    }\n",
       "</style>\n",
       "<table border=\"1\" class=\"dataframe\">\n",
       "  <thead>\n",
       "    <tr style=\"text-align: right;\">\n",
       "      <th></th>\n",
       "      <th>exid</th>\n",
       "      <th>epoch</th>\n",
       "      <th>iter</th>\n",
       "      <th>mode</th>\n",
       "      <th>batch_size</th>\n",
       "      <th>lr</th>\n",
       "      <th>loss</th>\n",
       "      <th>metrics</th>\n",
       "    </tr>\n",
       "  </thead>\n",
       "  <tbody>\n",
       "  </tbody>\n",
       "</table>\n",
       "</div>"
      ],
      "text/plain": [
       "Empty DataFrame\n",
       "Columns: [exid, epoch, iter, mode, batch_size, lr, loss, metrics]\n",
       "Index: []"
      ]
     },
     "execution_count": 19,
     "metadata": {},
     "output_type": "execute_result"
    }
   ],
   "source": [
    "db.table_history()"
   ]
  },
  {
   "cell_type": "code",
   "execution_count": 17,
   "metadata": {},
   "outputs": [],
   "source": [
    "class GradPlot:\n",
    "    @classmethod\n",
    "    def plot_grad(cls, layer_grad, figsize=(16, 6)):\n",
    "        max_grad = layer_grad['max_abs_grads']\n",
    "        avg_grad = layer_grad['avg_abs_grads']\n",
    "        layers = layer_grad['layers']\n",
    "\n",
    "        # fig, ax = plt.subplots(1, 1)\n",
    "        plt.figure(figsize=figsize)\n",
    "        plt.bar(np.arange(len(max_grad)), max_grad, alpha=0.1, lw=1, color='c')\n",
    "        plt.bar(np.arange(len(max_grad)), avg_grad, alpha=0.1, lw=1, color='b')\n",
    "        plt.xticks(range(0, len(layers), 1), layers, rotation='vertical')\n",
    "        plt.xlim(left=-1, right=len(layers))\n",
    "        plt.xlabel(\"Layers\")\n",
    "        plt.ylabel(\"Gradient Magnitude\")\n",
    "        plt.yscale('log')\n",
    "        plt.title(\"Gradient flow\")\n",
    "        plt.grid(True)"
   ]
  },
  {
   "cell_type": "code",
   "execution_count": 21,
   "metadata": {},
   "outputs": [
    {
     "data": {
      "image/png": "[encoded data removed]",
      "text/plain": [
       "<Figure size 1152x432 with 1 Axes>"
      ]
     },
     "metadata": {
      "needs_background": "light"
     },
     "output_type": "display_data"
    }
   ],
   "source": [
    "\n",
    "GradPlot.plot_grad(db.get_grad(17, 1, 0))"
   ]
  },
  {
   "cell_type": "code",
   "execution_count": null,
   "metadata": {},
   "outputs": [],
   "source": []
  }
 ],
 "metadata": {
  "kernelspec": {
   "display_name": "Python 3",
   "language": "python",
   "name": "python3"
  },
  "language_info": {
   "codemirror_mode": {
    "name": "ipython",
    "version": 3
   },
   "file_extension": ".py",
   "mimetype": "text/x-python",
   "name": "python",
   "nbconvert_exporter": "python",
   "pygments_lexer": "ipython3",
   "version": "3.6.4"
  },
  "toc": {
   "base_numbering": 1,
   "nav_menu": {},
   "number_sections": true,
   "sideBar": true,
   "skip_h1_title": false,
   "title_cell": "Table of Contents",
   "title_sidebar": "Contents",
   "toc_cell": false,
   "toc_position": {},
   "toc_section_display": true,
   "toc_window_display": false
  }
 },
 "nbformat": 4,
 "nbformat_minor": 2
}
